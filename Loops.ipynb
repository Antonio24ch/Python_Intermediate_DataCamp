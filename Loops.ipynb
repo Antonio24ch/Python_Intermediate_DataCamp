{
  "nbformat": 4,
  "nbformat_minor": 0,
  "metadata": {
    "colab": {
      "name": "Loops.ipynb",
      "provenance": [],
      "authorship_tag": "ABX9TyNa8gHzJB8z/jsGxlBXBXJj",
      "include_colab_link": true
    },
    "kernelspec": {
      "name": "python3",
      "display_name": "Python 3"
    },
    "language_info": {
      "name": "python"
    }
  },
  "cells": [
    {
      "cell_type": "markdown",
      "metadata": {
        "id": "view-in-github",
        "colab_type": "text"
      },
      "source": [
        "<a href=\"https://colab.research.google.com/github/Antonio24ch/Python_Intermediate_DataCamp/blob/main/Loops.ipynb\" target=\"_parent\"><img src=\"https://colab.research.google.com/assets/colab-badge.svg\" alt=\"Open In Colab\"/></a>"
      ]
    },
    {
      "cell_type": "markdown",
      "metadata": {
        "id": "mdIyUFe-A6YM"
      },
      "source": [
        "Write a for loop that goes through each key:value pair of europe. On each iteration, \"the capital of x is y\" should be printed out, where x is the key and y is the value of the pair."
      ]
    },
    {
      "cell_type": "code",
      "metadata": {
        "colab": {
          "base_uri": "https://localhost:8080/"
        },
        "id": "VaPLlfevA_JS",
        "outputId": "2692501a-89b2-4268-ead3-ffabcf9a60a7"
      },
      "source": [
        "# Definition of dictionary\n",
        "europe = {'spain':'madrid', 'france':'paris', 'germany':'berlin',\n",
        "          'norway':'oslo', 'italy':'rome', 'poland':'warsaw', 'austria':'vienna' }\n",
        "          \n",
        "# Iterate over europe\n",
        "for key, value in europe.items() :\n",
        "     print(\"the capital of \" + str(key) + \" is \" + str(value))"
      ],
      "execution_count": 1,
      "outputs": [
        {
          "output_type": "stream",
          "text": [
            "the capital of spain is madrid\n",
            "the capital of france is paris\n",
            "the capital of germany is berlin\n",
            "the capital of norway is oslo\n",
            "the capital of italy is rome\n",
            "the capital of poland is warsaw\n",
            "the capital of austria is vienna\n"
          ],
          "name": "stdout"
        }
      ]
    },
    {
      "cell_type": "markdown",
      "metadata": {
        "id": "uhwC0Jt-GKNq"
      },
      "source": [
        "* Write a for loop that iterates over the rows of cars and on each iteration perform two print() calls: one to print out the row label and one to print out all of the rows contents."
      ]
    },
    {
      "cell_type": "code",
      "metadata": {
        "colab": {
          "base_uri": "https://localhost:8080/"
        },
        "id": "cpGKOL-oF8uw",
        "outputId": "b43ee51c-2e1e-4a9b-d440-bc1d4a93e2ec"
      },
      "source": [
        "# Import cars data\n",
        "import pandas as pd\n",
        "countries = pd.read_csv('countries.csv', index_col = 0)\n",
        "\n",
        "# Iterate over rows of cars\n",
        "for lab,row in countries.iterrows():\n",
        "    print(lab)\n",
        "    print(row)\n"
      ],
      "execution_count": 4,
      "outputs": [
        {
          "output_type": "stream",
          "text": [
            "809\n",
            "country         United States\n",
            "drives_right             True\n",
            "Name: 809, dtype: object\n",
            "731\n",
            "country         Australia\n",
            "drives_right        False\n",
            "Name: 731, dtype: object\n",
            "588\n",
            "country         Japan\n",
            "drives_right    False\n",
            "Name: 588, dtype: object\n",
            "18\n",
            "country         India\n",
            "drives_right    False\n",
            "Name: 18, dtype: object\n",
            "200\n",
            "country         Russia\n",
            "drives_right      True\n",
            "Name: 200, dtype: object\n",
            "70\n",
            "country         Morocco\n",
            "drives_right       True\n",
            "Name: 70, dtype: object\n",
            "45\n",
            "country         Egypt\n",
            "drives_right     True\n",
            "Name: 45, dtype: object\n"
          ],
          "name": "stdout"
        }
      ]
    }
  ]
}